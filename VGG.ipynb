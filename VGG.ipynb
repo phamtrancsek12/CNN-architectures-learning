{
 "cells": [
  {
   "cell_type": "code",
   "execution_count": 2,
   "metadata": {
    "collapsed": true
   },
   "outputs": [],
   "source": [
    "%matplotlib inline\n",
    "%config InlineBackend.figure_format = 'retina'\n",
    "import matplotlib.pyplot as plt\n",
    "\n",
    "import torch\n",
    "from torch import nn\n",
    "from torchvision import datasets, transforms\n",
    "import torch.optim as optim\n",
    "import torch.nn.functional as F\n",
    "\n",
    "import time\n",
    "import os\n",
    "import copy\n",
    "\n",
    "# Logging time, process\n",
    "from tqdm import tqdm\n",
    "\n",
    "\n",
    "class VGG11(torch.nn.Module):\n",
    "    \n",
    "    '''\n",
    "        Define a VGG with 11 layers\n",
    "        - Input   : 28x28x1 (original 224x224 RGB)\n",
    "        - Conv1_1 : 28x28x1  -> 28x28x64   \n",
    "        - Pool1   : 28x28x64 -> 14x14x64\n",
    "        - Conv2_1 : 14x14x64 -> 14x14x128\n",
    "        - Pool2   : 14x14x128-> 7x7x128\n",
    "        - Conv3_1 : 7x7x128  -> 7x7x256\n",
    "        - Conv3_2 : 7x7x256  -> 7x7x256\n",
    "        - Pool3   : 7x7x256  -> 5x5x256    \n",
    "        - Conv4_1 : 5x5x256  -> 5x5x512\n",
    "        - Conv4_2 : 5x5x256  -> 5x5x512\n",
    "        - Pool4   : 5x5x512  -> 3x3x512  \n",
    "        - Conv5_1 : 3x3x256  -> 3x3x512\n",
    "        - Conv5_2 : 3x3x256  -> 3x3x512\n",
    "        - Pool5   : 3x3x512  -> 1x1x512  \n",
    "        - FC1     : 3x3x512  -> 256\n",
    "        - FC2     : 256      -> 256\n",
    "        - FC3     : 256      -> 10\n",
    "    '''\n",
    "    \n",
    "    def __init__(self):\n",
    "        super().__init__()\n",
    "        \n",
    "        self.conv1_1 = torch.nn.Conv2d(in_channels = 1, \n",
    "                                       out_channels = 64, \n",
    "                                       kernel_size = 3, \n",
    "                                       stride  = 1,\n",
    "                                       padding = 1)\n",
    "    \n",
    "        \n",
    "        self.pool1 = torch.nn.MaxPool2d(kernel_size = 2, \n",
    "                                        stride = 2, \n",
    "                                        padding = 0)\n",
    "        \n",
    "        \n",
    "        self.conv2_1 = torch.nn.Conv2d(in_channels = 64, \n",
    "                                       out_channels = 128, \n",
    "                                       kernel_size = 3, \n",
    "                                       stride  = 1,\n",
    "                                       padding = 1)\n",
    "        \n",
    "        self.pool2 = torch.nn.MaxPool2d(kernel_size = 2, \n",
    "                                        stride = 2, \n",
    "                                        padding = 0)\n",
    "        \n",
    "        self.conv3_1 = torch.nn.Conv2d(in_channels = 128, \n",
    "                                       out_channels = 256, \n",
    "                                       kernel_size = 3, \n",
    "                                       stride  = 1,\n",
    "                                       padding = 1)\n",
    "        \n",
    "        self.conv3_2 = torch.nn.Conv2d(in_channels = 256, \n",
    "                                       out_channels = 256, \n",
    "                                       kernel_size = 3, \n",
    "                                       stride  = 1,\n",
    "                                       padding = 1)\n",
    "        \n",
    "        self.pool3 = torch.nn.MaxPool2d(kernel_size = 2, \n",
    "                                        stride = 2, \n",
    "                                        padding = 0)\n",
    "        \n",
    "        self.conv4_1 = torch.nn.Conv2d(in_channels = 256, \n",
    "                                       out_channels = 512, \n",
    "                                       kernel_size = 3, \n",
    "                                       stride  = 1,\n",
    "                                       padding = 1)\n",
    "        \n",
    "        self.conv4_2 = torch.nn.Conv2d(in_channels = 512, \n",
    "                                       out_channels = 512, \n",
    "                                       kernel_size = 3, \n",
    "                                       stride  = 1,\n",
    "                                       padding = 1)\n",
    "        \n",
    "        self.pool4 = torch.nn.MaxPool2d(kernel_size = 2, \n",
    "                                        stride = 2, \n",
    "                                        padding = 0)\n",
    "        \n",
    "        self.conv5_1 = torch.nn.Conv2d(in_channels = 512, \n",
    "                                       out_channels = 512, \n",
    "                                       kernel_size = 3, \n",
    "                                       stride  = 1,\n",
    "                                       padding = 1)\n",
    "        \n",
    "        self.conv5_2 = torch.nn.Conv2d(in_channels = 512, \n",
    "                                       out_channels = 512, \n",
    "                                       kernel_size = 3, \n",
    "                                       stride  = 1,\n",
    "                                       padding = 1)\n",
    "        \n",
    "        self.pool5 = torch.nn.MaxPool2d(kernel_size = 2, \n",
    "                                        stride = 2, \n",
    "                                        padding = 0)\n",
    "        \n",
    "        self.fc1 = torch.nn.Linear(512*1*1, 256)\n",
    "        self.fc2 = torch.nn.Linear(256, 256)\n",
    "        self.fc3 = torch.nn.Linear(256, 10)\n",
    "        \n",
    "        \n",
    "    def forward(self, x):\n",
    "        \n",
    "        x = F.relu(self.conv1_1(x))\n",
    "        x = self.pool1(x)\n",
    "        \n",
    "        x = F.relu(self.conv2_1(x))\n",
    "        x = self.pool2(x)\n",
    "        \n",
    "        x = F.relu(self.conv3_1(x))\n",
    "        x = F.relu(self.conv3_2(x))\n",
    "        x = self.pool3(x)\n",
    "        \n",
    "        x = F.relu(self.conv4_1(x))\n",
    "        x = F.relu(self.conv4_2(x))\n",
    "        x = self.pool4(x)\n",
    "        \n",
    "        x = F.relu(self.conv5_1(x))\n",
    "        x = F.relu(self.conv5_2(x))\n",
    "        x = self.pool5(x)\n",
    "        \n",
    "        # Flatten CNN output to feed to the fully-connected layer\n",
    "        x = x.view(-1, 512*1*1)\n",
    "        \n",
    "        # Use ReLU activation for first FC layer\n",
    "        x = F.relu(self.fc1(x))\n",
    "        x = F.relu(self.fc2(x))\n",
    "        \n",
    "        # Output with 10 classes, use log_softmax\n",
    "        x = F.log_softmax(self.fc3(x), dim=1)\n",
    "        \n",
    "        return(x)"
   ]
  },
  {
   "cell_type": "code",
   "execution_count": 3,
   "metadata": {
    "collapsed": true
   },
   "outputs": [],
   "source": [
    "# Define the transform object to tranform image to tensor and normalize\n",
    "# (Can also add others for data augmentation)\n",
    "\n",
    "transform = transforms.Compose([\n",
    "    transforms.ToTensor(),\n",
    "    transforms.Normalize((0.5, 0.5, 0.5), (0.5, 0.5, 0.5))\n",
    "])\n",
    "\n",
    "# Download the data from MNIST\n",
    "# Otherwise, to load from disk, use datasets.ImageFolder\n",
    "trainset = datasets.MNIST('~/.pytorch/MNIST_data/', download=True, train=True, transform=transform)\n",
    "trainloader = torch.utils.data.DataLoader(trainset, batch_size=64, shuffle=True)\n",
    "\n",
    "testset = datasets.MNIST('~/.pytorch/MNIST_data/', download=True, train=False, transform=transform)\n",
    "testloader = torch.utils.data.DataLoader(testset, batch_size=64, shuffle=True)"
   ]
  },
  {
   "cell_type": "code",
   "execution_count": 5,
   "metadata": {},
   "outputs": [
    {
     "name": "stderr",
     "output_type": "stream",
     "text": [
      "100%|██████████| 938/938 [34:21<00:00,  2.64s/it]\n",
      "  0%|          | 0/938 [00:00<?, ?it/s]"
     ]
    },
    {
     "name": "stdout",
     "output_type": "stream",
     "text": [
      "Epoch: 1/10..  Training Loss: 0.892..  Training Acc : 0.678.. Test Loss: 0.211..  Test Accuracy: 0.942\n"
     ]
    },
    {
     "name": "stderr",
     "output_type": "stream",
     "text": [
      "100%|██████████| 938/938 [38:16<00:00,  1.93s/it]\n",
      "  0%|          | 0/938 [00:00<?, ?it/s]"
     ]
    },
    {
     "name": "stdout",
     "output_type": "stream",
     "text": [
      "Epoch: 2/10..  Training Loss: 0.194..  Training Acc : 0.948.. Test Loss: 0.189..  Test Accuracy: 0.952\n"
     ]
    },
    {
     "name": "stderr",
     "output_type": "stream",
     "text": [
      "100%|██████████| 938/938 [37:31<00:00,  2.13s/it]\n",
      "  0%|          | 0/938 [00:00<?, ?it/s]"
     ]
    },
    {
     "name": "stdout",
     "output_type": "stream",
     "text": [
      "Epoch: 3/10..  Training Loss: 0.152..  Training Acc : 0.959.. Test Loss: 0.142..  Test Accuracy: 0.964\n"
     ]
    },
    {
     "name": "stderr",
     "output_type": "stream",
     "text": [
      "100%|██████████| 938/938 [38:39<00:00,  1.87s/it]\n",
      "  0%|          | 0/938 [00:00<?, ?it/s]"
     ]
    },
    {
     "name": "stdout",
     "output_type": "stream",
     "text": [
      "Epoch: 4/10..  Training Loss: 0.132..  Training Acc : 0.964.. Test Loss: 0.228..  Test Accuracy: 0.938\n"
     ]
    },
    {
     "name": "stderr",
     "output_type": "stream",
     "text": [
      "100%|██████████| 938/938 [1:14:57<00:00,  2.05s/it]   \n",
      "  0%|          | 0/938 [00:00<?, ?it/s]"
     ]
    },
    {
     "name": "stdout",
     "output_type": "stream",
     "text": [
      "Epoch: 5/10..  Training Loss: 0.127..  Training Acc : 0.967.. Test Loss: 0.160..  Test Accuracy: 0.954\n"
     ]
    },
    {
     "name": "stderr",
     "output_type": "stream",
     "text": [
      "100%|██████████| 938/938 [36:10<00:00,  1.99s/it]\n",
      "  0%|          | 0/938 [00:00<?, ?it/s]"
     ]
    },
    {
     "name": "stdout",
     "output_type": "stream",
     "text": [
      "Epoch: 6/10..  Training Loss: 0.133..  Training Acc : 0.966.. Test Loss: 0.092..  Test Accuracy: 0.976\n"
     ]
    },
    {
     "name": "stderr",
     "output_type": "stream",
     "text": [
      "100%|██████████| 938/938 [35:16<00:00,  1.97s/it]\n",
      "  0%|          | 0/938 [00:00<?, ?it/s]"
     ]
    },
    {
     "name": "stdout",
     "output_type": "stream",
     "text": [
      "Epoch: 7/10..  Training Loss: 0.093..  Training Acc : 0.975.. Test Loss: 0.092..  Test Accuracy: 0.977\n"
     ]
    },
    {
     "name": "stderr",
     "output_type": "stream",
     "text": [
      "100%|██████████| 938/938 [37:03<00:00,  1.88s/it]\n",
      "  0%|          | 0/938 [00:00<?, ?it/s]"
     ]
    },
    {
     "name": "stdout",
     "output_type": "stream",
     "text": [
      "Epoch: 8/10..  Training Loss: 0.112..  Training Acc : 0.970.. Test Loss: 0.101..  Test Accuracy: 0.971\n"
     ]
    },
    {
     "name": "stderr",
     "output_type": "stream",
     "text": [
      "100%|██████████| 938/938 [36:07<00:00,  1.89s/it]\n",
      "  0%|          | 0/938 [00:00<?, ?it/s]"
     ]
    },
    {
     "name": "stdout",
     "output_type": "stream",
     "text": [
      "Epoch: 9/10..  Training Loss: 0.080..  Training Acc : 0.978.. Test Loss: 0.093..  Test Accuracy: 0.977\n"
     ]
    },
    {
     "name": "stderr",
     "output_type": "stream",
     "text": [
      "100%|██████████| 938/938 [35:48<00:00,  2.08s/it]\n"
     ]
    },
    {
     "name": "stdout",
     "output_type": "stream",
     "text": [
      "Epoch: 10/10..  Training Loss: 0.084..  Training Acc : 0.978.. Test Loss: 0.095..  Test Accuracy: 0.975\n"
     ]
    },
    {
     "data": {
      "text/plain": [
       "<matplotlib.legend.Legend at 0x11a0d59e8>"
      ]
     },
     "execution_count": 5,
     "metadata": {},
     "output_type": "execute_result"
    },
    {
     "data": {
      "image/png": "[encoded data removed]",
      "text/plain": [
       "<matplotlib.figure.Figure at 0x1153050f0>"
      ]
     },
     "metadata": {
      "image/png": {
       "height": 250,
       "width": 373
      }
     },
     "output_type": "display_data"
    }
   ],
   "source": [
    "# Define the model, loss and optimizer\n",
    "model = VGG11()\n",
    "criterion = nn.NLLLoss()\n",
    "optimizer = optim.Adam(model.parameters(), lr=0.003)\n",
    "\n",
    "\n",
    "num_of_epochs = 10\n",
    "train_losses = []\n",
    "test_losses = []\n",
    "for e in range(num_of_epochs):\n",
    "    running_loss = 0\n",
    "    train_acc = 0\n",
    "    for images, labels in tqdm(trainloader):\n",
    "        \n",
    "        log_ps = model(images)\n",
    "        loss = criterion(log_ps, labels)\n",
    "\n",
    "        optimizer.zero_grad()\n",
    "        loss.backward()\n",
    "        optimizer.step()\n",
    "\n",
    "        running_loss += loss.item()\n",
    "        \n",
    "        ps = torch.exp(log_ps)\n",
    "        top_p, top_class = ps.topk(1, dim=1) # Get top 1 class\n",
    "        \n",
    "        # Count equals and calculate accuracy\n",
    "        equals = top_class == labels.view(top_class.shape)\n",
    "        train_acc += torch.mean(equals.type(torch.FloatTensor))\n",
    "    else:\n",
    "        test_loss = 0\n",
    "        accuracy = 0\n",
    "\n",
    "        # Turn off gradients for validation to speed up\n",
    "        with torch.no_grad():\n",
    "            for images, labels in testloader:\n",
    "\n",
    "                # set model to evaluation mode\n",
    "                # this will turn off the dropout by change the drop_prob to 0\n",
    "                model.eval()\n",
    "\n",
    "                log_ps = model(images)\n",
    "                test_loss += criterion(log_ps, labels)\n",
    "\n",
    "                ps = torch.exp(log_ps)\n",
    "                top_p, top_class = ps.topk(1, dim=1) # Get top 1 class\n",
    "\n",
    "                # Count equals and calculate accuracy\n",
    "                equals = top_class == labels.view(top_class.shape)\n",
    "                accuracy += torch.mean(equals.type(torch.FloatTensor))\n",
    "\n",
    "        train_losses.append(running_loss/len(trainloader))\n",
    "        test_losses.append(test_loss/len(testloader))\n",
    "\n",
    "        print(\"Epoch: {}/{}.. \".format(e+1, num_of_epochs),\n",
    "              \"Training Loss: {:.3f}.. \".format(running_loss/len(trainloader)),\n",
    "              \"Training Acc : {:.3f}..\".format(train_acc/len(trainloader)),\n",
    "              \"Test Loss: {:.3f}.. \".format(test_loss/len(testloader)),\n",
    "              \"Test Accuracy: {:.3f}\".format(accuracy/len(testloader)))\n",
    "\n",
    "        # set model back to train mode\n",
    "        # this will turn on the dropout\n",
    "        model.train()\n",
    "\n",
    "plt.plot(train_losses, label='Training loss')\n",
    "plt.plot(test_losses, label='Validation loss')\n",
    "plt.legend(frameon=False)"
   ]
  }
 ],
 "metadata": {
  "kernelspec": {
   "display_name": "venv",
   "language": "python",
   "name": "venv"
  },
  "language_info": {
   "codemirror_mode": {
    "name": "ipython",
    "version": 3
   },
   "file_extension": ".py",
   "mimetype": "text/x-python",
   "name": "python",
   "nbconvert_exporter": "python",
   "pygments_lexer": "ipython3",
   "version": "3.6.1"
  }
 },
 "nbformat": 4,
 "nbformat_minor": 2
}
